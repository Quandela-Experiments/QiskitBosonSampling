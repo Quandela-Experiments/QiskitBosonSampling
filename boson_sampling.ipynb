{
 "cells": [
  {
   "cell_type": "markdown",
   "source": [
    "# Boson Sampling in Qiskit\n",
    "\n",
    "The goal of this notebook is to try to do boson sampling on a universal quantum computer using a gate based circuit. For that, we will follow the procedure proposed in https://arxiv.org/pdf/1011.3245.pdf by Scott Aaronson and Alexander Akhipov.\n",
    "The main idea is to see that any interferometer on m modes can be decomposed into $O(m^{2})$ 1 and 2 modes components (Bean Splitter and Phase Shifter basically). Then those components are easily convertible in a gate base circuit, using n qbit per modes\n",
    "to encode up to $2^{n} - 1$ photons in each mode.\n",
    "\n",
    "Such a Naive converter is implemented in the file component_converter of this repo. We will also try to evaluate the performances of such conversion and compare them to those of photonic architectures, which are natively doing boson sampling."
   ],
   "metadata": {
    "collapsed": false
   },
   "id": "a3f08960337ff83c"
  },
  {
   "cell_type": "markdown",
   "source": [
    "## Introduction"
   ],
   "metadata": {
    "collapsed": false
   },
   "id": "48e2aeed0eb6a30d"
  },
  {
   "cell_type": "code",
   "execution_count": 2,
   "id": "initial_id",
   "metadata": {
    "collapsed": true,
    "ExecuteTime": {
     "end_time": "2024-02-29T15:25:14.181111700Z",
     "start_time": "2024-02-29T15:25:12.600599Z"
    }
   },
   "outputs": [],
   "source": [
    "from math import pi, ceil, log2\n",
    "\n",
    "import perceval as pcvl\n",
    "from perceval import Circuit, BS, PS, BasicState\n",
    "import qiskit\n",
    "from qiskit import transpile\n",
    "import qiskit_aer\n",
    "\n",
    "from component_converter import NaiveBosonSamplingConverter"
   ]
  },
  {
   "cell_type": "markdown",
   "source": [
    "First, let see what the converter can do."
   ],
   "metadata": {
    "collapsed": false
   },
   "id": "70613d9ce229c47"
  },
  {
   "cell_type": "code",
   "execution_count": 3,
   "outputs": [
    {
     "data": {
      "text/plain": "<drawsvg.drawing.Drawing at 0x1fc73cf5130>",
      "image/svg+xml": "<?xml version=\"1.0\" encoding=\"UTF-8\"?>\n<svg xmlns=\"http://www.w3.org/2000/svg\" xmlns:xlink=\"http://www.w3.org/1999/xlink\"\n     width=\"382.5\" height=\"156.25\" viewBox=\"-28.0 0 306.0 125.0\">\n<defs>\n</defs>\n<path d=\"M10,25 L25,25\" stroke-width=\"3\" stroke=\"darkred\" stroke-linejoin=\"miter\" fill=\"none\" />\n<path d=\"M10,75 L25,75\" stroke-width=\"3\" stroke=\"darkred\" stroke-linejoin=\"miter\" fill=\"none\" />\n<path d=\"M25,25 L75,25\" stroke=\"darkred\" stroke-width=\"3\" fill=\"none\" />\n<path d=\"M30,40 L39,40 L53,10 L44,10 L30,40 L39,40 Z\" stroke=\"black\" fill=\"gray\" stroke-linejoin=\"miter\" />\n<text x=\"47\" y=\"38\" font-size=\"7\" text-anchor=\"start\">Φ=pi/4</text>\n<path d=\"M25,75 L75,75\" stroke=\"darkred\" stroke-width=\"3\" fill=\"none\" />\n<path d=\"M75,25 L103,25 L122,44\" stroke=\"darkred\" stroke-width=\"3\" fill=\"none\" />\n<path d=\"M128,44 L147,25 L175,25\" stroke=\"darkred\" stroke-width=\"3\" fill=\"none\" />\n<path d=\"M75,75 L103,75 L122,56\" stroke=\"darkred\" stroke-width=\"3\" fill=\"none\" />\n<path d=\"M128,56 L147,75 L175,75\" stroke=\"darkred\" stroke-width=\"3\" fill=\"none\" />\n<path d=\"M100,43 L150,43 L150,57 L100,57 Z\" stroke=\"black\" fill=\"black\" stroke-linejoin=\"miter\" />\n<text x=\"125\" y=\"85\" font-size=\"7\" text-anchor=\"middle\"></text>\n<text x=\"125\" y=\"26\" font-size=\"7\" text-anchor=\"middle\"></text>\n<path d=\"M100,43 L150,43 L150,47 L100,47 Z\" stroke=\"black\" fill=\"lightgray\" stroke-linejoin=\"miter\" />\n<path d=\"M143,50 L153,50 L153,60 L143,60 Z\" stroke=\"black\" fill=\"aquamarine\" stroke-linejoin=\"miter\" />\n<text x=\"148\" y=\"57\" font-size=\"6\" text-anchor=\"middle\">H</text>\n<path d=\"M175,75 L225,75\" stroke=\"darkred\" stroke-width=\"3\" fill=\"none\" />\n<path d=\"M180,90 L189,90 L203,60 L194,60 L180,90 L189,90 Z\" stroke=\"black\" fill=\"gray\" stroke-linejoin=\"miter\" />\n<text x=\"197\" y=\"88\" font-size=\"7\" text-anchor=\"start\">Φ=pi/4</text>\n<path d=\"M175,25 L225,25\" stroke=\"darkred\" stroke-width=\"3\" fill=\"none\" />\n<path d=\"M225,25 L240,25\" stroke-width=\"3\" stroke=\"darkred\" stroke-linejoin=\"miter\" fill=\"none\" />\n<path d=\"M225,75 L240,75\" stroke-width=\"3\" stroke=\"darkred\" stroke-linejoin=\"miter\" fill=\"none\" />\n<text x=\"250\" y=\"28\" font-size=\"6\" text-anchor=\"end\">0</text>\n<text x=\"250\" y=\"78\" font-size=\"6\" text-anchor=\"end\">1</text>\n<text x=\"0\" y=\"28\" font-size=\"6\" text-anchor=\"start\">0</text>\n<text x=\"0\" y=\"78\" font-size=\"6\" text-anchor=\"start\">1</text>\n</svg>"
     },
     "execution_count": 3,
     "metadata": {},
     "output_type": "execute_result"
    }
   ],
   "source": [
    "circuit = Circuit(2) // (0, PS(pi/4)) // BS.H() // (1, PS(pi/4))\n",
    "\n",
    "pcvl.pdisplay(circuit)\n"
   ],
   "metadata": {
    "collapsed": false,
    "ExecuteTime": {
     "end_time": "2024-02-29T15:25:14.235763400Z",
     "start_time": "2024-02-29T15:25:14.165467Z"
    }
   },
   "id": "b1f3a28459cc972b"
  },
  {
   "cell_type": "code",
   "execution_count": 4,
   "outputs": [
    {
     "name": "stderr",
     "output_type": "stream",
     "text": [
      "C:\\Users\\MelvinMathe\\AppData\\Local\\Programs\\Python\\Python39\\lib\\site-packages\\qiskit\\visualization\\circuit\\circuit_visualization.py:346: UserWarning: FigureCanvasAgg is non-interactive, and thus cannot be shown\n",
      "  image.show()\n"
     ]
    },
    {
     "data": {
      "text/plain": "<Figure size 1082.05x451.5 with 1 Axes>",
      "image/png": "[encoded data removed]"
     },
     "execution_count": 4,
     "metadata": {},
     "output_type": "execute_result"
    }
   ],
   "source": [
    "n_photon_max = 2\n",
    "n_qbit = ceil(log2(n_photon_max + 1))\n",
    "converter = NaiveBosonSamplingConverter(n_qbit)\n",
    "converter.set_optical_circuit(circuit)\n",
    "\n",
    "converter.qiskit_circuit.draw('mpl', interactive=True)"
   ],
   "metadata": {
    "collapsed": false,
    "ExecuteTime": {
     "end_time": "2024-02-29T15:25:14.612720500Z",
     "start_time": "2024-02-29T15:25:14.198665100Z"
    }
   },
   "id": "5ae75379a74be72"
  },
  {
   "cell_type": "markdown",
   "source": [
    "Those gates are just unitary transformations on 4 qubits, but there is no clue that they are easily constructible from a native set of gates of a real QPU. Let's try a transpilation on one of IBM's fake backend. \n",
    "This one has [\"rz\", \"sx\", \"x\", \"cx\"] as a basis gate"
   ],
   "metadata": {
    "collapsed": false
   },
   "id": "2988706f213fe63e"
  },
  {
   "cell_type": "code",
   "execution_count": 5,
   "outputs": [
    {
     "name": "stdout",
     "output_type": "stream",
     "text": [
      "471\n",
      "{'rz': 362, 'sx': 240, 'cx': 163, 'measure': 4, 'barrier': 1}\n"
     ]
    }
   ],
   "source": [
    "from qiskit.providers.fake_provider import Fake5QV1\n",
    "\n",
    "t_circ = transpile(converter.qiskit_circuit, backend=Fake5QV1())\n",
    "\n",
    "print(t_circ.depth())\n",
    "print(dict(t_circ.count_ops()))"
   ],
   "metadata": {
    "collapsed": false,
    "ExecuteTime": {
     "end_time": "2024-02-29T15:25:14.823220300Z",
     "start_time": "2024-02-29T15:25:14.659808100Z"
    }
   },
   "id": "59ad8818dc4ea0a0"
  },
  {
   "cell_type": "markdown",
   "source": [
    "We see that the circuit is too deep to be reliable. Assuming the CNOT gates have a 98% chance of success (which would be very good), we only have a 3% chance of success for the whole circuit (considering the one qbit gates are perfect, which is not the case), and the interesting results would be hidden in noise.\n",
    "Also, we already begin to see the problem : we need a very low error if we want the unitary to succeed.\n",
    "\n",
    "From this point, let's focus on the simplest non-trivial case, the Hong-Ou-Mandel effect. So we have 2 modes, a beam splitter and 2 photons."
   ],
   "metadata": {
    "collapsed": false
   },
   "id": "274887a70337f191"
  },
  {
   "cell_type": "markdown",
   "source": [
    "## Experiments"
   ],
   "metadata": {
    "collapsed": false
   },
   "id": "c573bf15b234fa68"
  },
  {
   "cell_type": "code",
   "execution_count": 8,
   "outputs": [
    {
     "name": "stdout",
     "output_type": "stream",
     "text": [
      "{'results': BSDistribution(<class 'float'>, {|0,2>: 0.4987, |2,0>: 0.5013}), 'logical_perf': 1, 'physical_perf': 1}\n"
     ]
    }
   ],
   "source": [
    "from qiskit_aer import AerSimulator\n",
    "backend = AerSimulator()\n",
    "\n",
    "\n",
    "circuit = BS.H()\n",
    "converter = NaiveBosonSamplingConverter(2, backend=backend, circuit=circuit)\n",
    "converter.set_input_state(BasicState([1, 1]))\n",
    "\n",
    "samples = converter.sample(10000)\n",
    "\n",
    "print(samples)"
   ],
   "metadata": {
    "collapsed": false,
    "ExecuteTime": {
     "end_time": "2024-02-29T15:25:50.540938700Z",
     "start_time": "2024-02-29T15:25:50.479434500Z"
    }
   },
   "id": "947a530a29de82a8"
  },
  {
   "cell_type": "markdown",
   "source": [
    "We see that we only sample $|2,0\\rangle$ and $|0,2\\rangle$ states, which confirm that the conversion is working. But obviously, with the perfect simulator, there is no errors."
   ],
   "metadata": {
    "collapsed": false
   },
   "id": "36f344c08053c7f2"
  },
  {
   "cell_type": "code",
   "execution_count": 8,
   "outputs": [],
   "source": [],
   "metadata": {
    "collapsed": false,
    "ExecuteTime": {
     "end_time": "2024-02-29T15:31:53.019243500Z",
     "start_time": "2024-02-29T15:31:53.003609400Z"
    }
   },
   "id": "a14adc6df5fa8ce2"
  }
 ],
 "metadata": {
  "kernelspec": {
   "name": "python3",
   "language": "python",
   "display_name": "Python 3 (ipykernel)"
  },
  "language_info": {
   "codemirror_mode": {
    "name": "ipython",
    "version": 2
   },
   "file_extension": ".py",
   "mimetype": "text/x-python",
   "name": "python",
   "nbconvert_exporter": "python",
   "pygments_lexer": "ipython2",
   "version": "2.7.6"
  }
 },
 "nbformat": 4,
 "nbformat_minor": 5
}
